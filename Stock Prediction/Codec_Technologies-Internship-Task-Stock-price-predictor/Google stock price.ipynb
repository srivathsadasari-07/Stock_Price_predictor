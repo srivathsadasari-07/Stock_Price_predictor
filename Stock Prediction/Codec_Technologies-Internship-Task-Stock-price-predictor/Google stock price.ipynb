{
 "cells": [
  {
   "cell_type": "code",
   "execution_count": 4,
   "metadata": {},
   "outputs": [],
   "source": [
    "import numpy as np \n",
    "import pandas as pd \n",
    "import matplotlib.pyplot as plt \n",
    "from sklearn.preprocessing import MinMaxScaler\n",
    "from keras.models import Sequential\n",
    "from keras.layers import Dense,LSTM,Dropout"
   ]
  },
  {
   "cell_type": "code",
   "execution_count": 5,
   "metadata": {},
   "outputs": [
    {
     "data": {
      "text/html": [
       "<div>\n",
       "<style scoped>\n",
       "    .dataframe tbody tr th:only-of-type {\n",
       "        vertical-align: middle;\n",
       "    }\n",
       "\n",
       "    .dataframe tbody tr th {\n",
       "        vertical-align: top;\n",
       "    }\n",
       "\n",
       "    .dataframe thead th {\n",
       "        text-align: right;\n",
       "    }\n",
       "</style>\n",
       "<table border=\"1\" class=\"dataframe\">\n",
       "  <thead>\n",
       "    <tr style=\"text-align: right;\">\n",
       "      <th></th>\n",
       "      <th>Date</th>\n",
       "      <th>Open</th>\n",
       "      <th>High</th>\n",
       "      <th>Low</th>\n",
       "      <th>Close</th>\n",
       "      <th>Volume</th>\n",
       "    </tr>\n",
       "  </thead>\n",
       "  <tbody>\n",
       "    <tr>\n",
       "      <th>0</th>\n",
       "      <td>1/3/2012</td>\n",
       "      <td>325.25</td>\n",
       "      <td>332.83</td>\n",
       "      <td>324.97</td>\n",
       "      <td>663.59</td>\n",
       "      <td>7,380,500</td>\n",
       "    </tr>\n",
       "    <tr>\n",
       "      <th>1</th>\n",
       "      <td>1/4/2012</td>\n",
       "      <td>331.27</td>\n",
       "      <td>333.87</td>\n",
       "      <td>329.08</td>\n",
       "      <td>666.45</td>\n",
       "      <td>5,749,400</td>\n",
       "    </tr>\n",
       "    <tr>\n",
       "      <th>2</th>\n",
       "      <td>1/5/2012</td>\n",
       "      <td>329.83</td>\n",
       "      <td>330.75</td>\n",
       "      <td>326.89</td>\n",
       "      <td>657.21</td>\n",
       "      <td>6,590,300</td>\n",
       "    </tr>\n",
       "    <tr>\n",
       "      <th>3</th>\n",
       "      <td>1/6/2012</td>\n",
       "      <td>328.34</td>\n",
       "      <td>328.77</td>\n",
       "      <td>323.68</td>\n",
       "      <td>648.24</td>\n",
       "      <td>5,405,900</td>\n",
       "    </tr>\n",
       "    <tr>\n",
       "      <th>4</th>\n",
       "      <td>1/9/2012</td>\n",
       "      <td>322.04</td>\n",
       "      <td>322.29</td>\n",
       "      <td>309.46</td>\n",
       "      <td>620.76</td>\n",
       "      <td>11,688,800</td>\n",
       "    </tr>\n",
       "  </tbody>\n",
       "</table>\n",
       "</div>"
      ],
      "text/plain": [
       "       Date    Open    High     Low   Close      Volume\n",
       "0  1/3/2012  325.25  332.83  324.97  663.59   7,380,500\n",
       "1  1/4/2012  331.27  333.87  329.08  666.45   5,749,400\n",
       "2  1/5/2012  329.83  330.75  326.89  657.21   6,590,300\n",
       "3  1/6/2012  328.34  328.77  323.68  648.24   5,405,900\n",
       "4  1/9/2012  322.04  322.29  309.46  620.76  11,688,800"
      ]
     },
     "execution_count": 5,
     "metadata": {},
     "output_type": "execute_result"
    }
   ],
   "source": [
    "data = pd.read_csv('Google_train_data.csv')\n",
    "data.head()"
   ]
  },
  {
   "cell_type": "code",
   "execution_count": 6,
   "metadata": {},
   "outputs": [
    {
     "name": "stdout",
     "output_type": "stream",
     "text": [
      "<class 'pandas.core.frame.DataFrame'>\n",
      "RangeIndex: 1258 entries, 0 to 1257\n",
      "Data columns (total 6 columns):\n",
      " #   Column  Non-Null Count  Dtype  \n",
      "---  ------  --------------  -----  \n",
      " 0   Date    1258 non-null   object \n",
      " 1   Open    1258 non-null   float64\n",
      " 2   High    1258 non-null   float64\n",
      " 3   Low     1258 non-null   float64\n",
      " 4   Close   1258 non-null   object \n",
      " 5   Volume  1258 non-null   object \n",
      "dtypes: float64(3), object(3)\n",
      "memory usage: 59.1+ KB\n"
     ]
    }
   ],
   "source": [
    "data.info()"
   ]
  },
  {
   "cell_type": "code",
   "execution_count": 7,
   "metadata": {},
   "outputs": [],
   "source": [
    "data[\"Close\"]=pd.to_numeric(data.Close,errors='coerce')\n",
    "data = data.dropna()\n",
    "trainData = data.iloc[:,4:5].values"
   ]
  },
  {
   "cell_type": "code",
   "execution_count": 8,
   "metadata": {},
   "outputs": [
    {
     "name": "stdout",
     "output_type": "stream",
     "text": [
      "<class 'pandas.core.frame.DataFrame'>\n",
      "Index: 1149 entries, 0 to 1257\n",
      "Data columns (total 6 columns):\n",
      " #   Column  Non-Null Count  Dtype  \n",
      "---  ------  --------------  -----  \n",
      " 0   Date    1149 non-null   object \n",
      " 1   Open    1149 non-null   float64\n",
      " 2   High    1149 non-null   float64\n",
      " 3   Low     1149 non-null   float64\n",
      " 4   Close   1149 non-null   float64\n",
      " 5   Volume  1149 non-null   object \n",
      "dtypes: float64(4), object(2)\n",
      "memory usage: 62.8+ KB\n"
     ]
    }
   ],
   "source": [
    "data.info()"
   ]
  },
  {
   "cell_type": "code",
   "execution_count": 9,
   "metadata": {},
   "outputs": [
    {
     "data": {
      "text/plain": [
       "(1149, 1)"
      ]
     },
     "execution_count": 9,
     "metadata": {},
     "output_type": "execute_result"
    }
   ],
   "source": [
    "sc = MinMaxScaler(feature_range=(0,1))\n",
    "trainData = sc.fit_transform(trainData)\n",
    "trainData.shape"
   ]
  },
  {
   "cell_type": "code",
   "execution_count": 10,
   "metadata": {},
   "outputs": [],
   "source": [
    "X_train = []\n",
    "y_train = []\n",
    "\n",
    "for i in range (60,1149): #60 : timestep // 1149 : length of the data\n",
    "    X_train.append(trainData[i-60:i,0]) \n",
    "    y_train.append(trainData[i,0])\n",
    "\n",
    "X_train,y_train = np.array(X_train),np.array(y_train)"
   ]
  },
  {
   "cell_type": "code",
   "execution_count": 11,
   "metadata": {},
   "outputs": [
    {
     "data": {
      "text/plain": [
       "(1089, 60, 1)"
      ]
     },
     "execution_count": 11,
     "metadata": {},
     "output_type": "execute_result"
    }
   ],
   "source": [
    "X_train = np.reshape(X_train,(X_train.shape[0],X_train.shape[1],1)) #adding the batch_size axis\n",
    "X_train.shape"
   ]
  },
  {
   "cell_type": "code",
   "execution_count": 12,
   "metadata": {},
   "outputs": [
    {
     "name": "stderr",
     "output_type": "stream",
     "text": [
      "C:\\Users\\raj24\\AppData\\Roaming\\Python\\Python312\\site-packages\\keras\\src\\layers\\rnn\\rnn.py:199: UserWarning: Do not pass an `input_shape`/`input_dim` argument to a layer. When using Sequential models, prefer using an `Input(shape)` object as the first layer in the model instead.\n",
      "  super().__init__(**kwargs)\n"
     ]
    }
   ],
   "source": [
    "model = Sequential()\n",
    "\n",
    "model.add(LSTM(units=100, return_sequences = True, input_shape =(X_train.shape[1],1)))\n",
    "model.add(Dropout(0.2))\n",
    "\n",
    "model.add(LSTM(units=100, return_sequences = True))\n",
    "model.add(Dropout(0.2))\n",
    "\n",
    "model.add(LSTM(units=100, return_sequences = True))\n",
    "model.add(Dropout(0.2))\n",
    "\n",
    "model.add(LSTM(units=100, return_sequences = False))\n",
    "model.add(Dropout(0.2))\n",
    "\n",
    "model.add(Dense(units =1))\n",
    "model.compile(optimizer='adam',loss=\"mean_squared_error\")"
   ]
  },
  {
   "cell_type": "code",
   "execution_count": 13,
   "metadata": {},
   "outputs": [
    {
     "name": "stdout",
     "output_type": "stream",
     "text": [
      "Epoch 1/20\n",
      "35/35 - 12s - 356ms/step - loss: 0.0278\n",
      "Epoch 2/20\n",
      "35/35 - 4s - 121ms/step - loss: 0.0102\n",
      "Epoch 3/20\n",
      "35/35 - 5s - 136ms/step - loss: 0.0093\n",
      "Epoch 4/20\n",
      "35/35 - 4s - 125ms/step - loss: 0.0094\n",
      "Epoch 5/20\n",
      "35/35 - 6s - 165ms/step - loss: 0.0075\n",
      "Epoch 6/20\n",
      "35/35 - 5s - 150ms/step - loss: 0.0149\n",
      "Epoch 7/20\n",
      "35/35 - 5s - 132ms/step - loss: 0.0078\n",
      "Epoch 8/20\n",
      "35/35 - 5s - 140ms/step - loss: 0.0068\n",
      "Epoch 9/20\n",
      "35/35 - 5s - 145ms/step - loss: 0.0068\n",
      "Epoch 10/20\n",
      "35/35 - 8s - 216ms/step - loss: 0.0077\n",
      "Epoch 11/20\n",
      "35/35 - 7s - 199ms/step - loss: 0.0057\n",
      "Epoch 12/20\n",
      "35/35 - 8s - 220ms/step - loss: 0.0065\n",
      "Epoch 13/20\n",
      "35/35 - 5s - 147ms/step - loss: 0.0063\n",
      "Epoch 14/20\n",
      "35/35 - 6s - 177ms/step - loss: 0.0063\n",
      "Epoch 15/20\n",
      "35/35 - 7s - 190ms/step - loss: 0.0048\n",
      "Epoch 16/20\n",
      "35/35 - 8s - 221ms/step - loss: 0.0054\n",
      "Epoch 17/20\n",
      "35/35 - 9s - 262ms/step - loss: 0.0046\n",
      "Epoch 18/20\n",
      "35/35 - 11s - 307ms/step - loss: 0.0053\n",
      "Epoch 19/20\n",
      "35/35 - 10s - 285ms/step - loss: 0.0050\n",
      "Epoch 20/20\n",
      "35/35 - 10s - 297ms/step - loss: 0.0045\n"
     ]
    }
   ],
   "source": [
    "hist = model.fit(X_train, y_train, epochs = 20, batch_size = 32, verbose=2)"
   ]
  },
  {
   "cell_type": "code",
   "execution_count": 14,
   "metadata": {},
   "outputs": [
    {
     "data": {
      "image/png": "[encoded data removed]",
      "text/plain": [
       "<Figure size 640x480 with 1 Axes>"
      ]
     },
     "metadata": {},
     "output_type": "display_data"
    }
   ],
   "source": [
    "plt.plot(hist.history['loss'])\n",
    "plt.title('Training model loss')\n",
    "plt.ylabel('loss')\n",
    "plt.xlabel('epoch')\n",
    "plt.legend(['train'], loc='upper left')\n",
    "plt.show()"
   ]
  },
  {
   "cell_type": "code",
   "execution_count": 15,
   "metadata": {},
   "outputs": [
    {
     "data": {
      "text/plain": [
       "(192, 60, 1)"
      ]
     },
     "execution_count": 15,
     "metadata": {},
     "output_type": "execute_result"
    }
   ],
   "source": [
    "testData = pd.read_csv('Google_test_data.csv')\n",
    "testData[\"Close\"]=pd.to_numeric(testData.Close,errors='coerce')\n",
    "testData = testData.dropna()\n",
    "testData = testData.iloc[:,4:5]\n",
    "y_test = testData.iloc[60:,0:].values \n",
    "#input array for the model\n",
    "inputClosing = testData.iloc[:,0:].values \n",
    "inputClosing_scaled = sc.transform(inputClosing)\n",
    "inputClosing_scaled.shape\n",
    "X_test = []\n",
    "length = len(testData)\n",
    "timestep = 60\n",
    "for i in range(timestep,length):  \n",
    "    X_test.append(inputClosing_scaled[i-timestep:i,0])\n",
    "X_test = np.array(X_test)\n",
    "X_test = np.reshape(X_test,(X_test.shape[0],X_test.shape[1],1))\n",
    "X_test.shape"
   ]
  },
  {
   "cell_type": "code",
   "execution_count": 16,
   "metadata": {},
   "outputs": [
    {
     "name": "stdout",
     "output_type": "stream",
     "text": [
      "\u001b[1m6/6\u001b[0m \u001b[32m━━━━━━━━━━━━━━━━━━━━\u001b[0m\u001b[37m\u001b[0m \u001b[1m3s\u001b[0m 139ms/step\n"
     ]
    },
    {
     "data": {
      "text/plain": [
       "array([[1.2057079],\n",
       "       [1.2083441],\n",
       "       [1.2187161],\n",
       "       [1.2350255],\n",
       "       [1.2498893],\n",
       "       [1.2537991],\n",
       "       [1.245403 ],\n",
       "       [1.2303361],\n",
       "       [1.2183392],\n",
       "       [1.2127777],\n",
       "       [1.2051845],\n",
       "       [1.1941423],\n",
       "       [1.1836534],\n",
       "       [1.1737751],\n",
       "       [1.1698973],\n",
       "       [1.1722867],\n",
       "       [1.1870326],\n",
       "       [1.2125723],\n",
       "       [1.2439325],\n",
       "       [1.2768795],\n",
       "       [1.2950605],\n",
       "       [1.2979791],\n",
       "       [1.2836354],\n",
       "       [1.2580897],\n",
       "       [1.2315564],\n",
       "       [1.2127903],\n",
       "       [1.2040424],\n",
       "       [1.1999333],\n",
       "       [1.1921953],\n",
       "       [1.1817787],\n",
       "       [1.1702406],\n",
       "       [1.1571959],\n",
       "       [1.1385059],\n",
       "       [1.115144 ],\n",
       "       [1.1027584],\n",
       "       [1.107377 ],\n",
       "       [1.1249838],\n",
       "       [1.1482073],\n",
       "       [1.1724524],\n",
       "       [1.1881394],\n",
       "       [1.2028993],\n",
       "       [1.219036 ],\n",
       "       [1.2368814],\n",
       "       [1.253802 ],\n",
       "       [1.2662612],\n",
       "       [1.2701465],\n",
       "       [1.2632889],\n",
       "       [1.2548889],\n",
       "       [1.2505912],\n",
       "       [1.2532215],\n",
       "       [1.2629755],\n",
       "       [1.2711446],\n",
       "       [1.2747256],\n",
       "       [1.2734292],\n",
       "       [1.2722443],\n",
       "       [1.2690599],\n",
       "       [1.261733 ],\n",
       "       [1.2569363],\n",
       "       [1.262694 ],\n",
       "       [1.2774483],\n",
       "       [1.3007064],\n",
       "       [1.3302927],\n",
       "       [1.3541633],\n",
       "       [1.3633087],\n",
       "       [1.3571948],\n",
       "       [1.3409443],\n",
       "       [1.3264266],\n",
       "       [1.3185539],\n",
       "       [1.3178115],\n",
       "       [1.3203564],\n",
       "       [1.3243836],\n",
       "       [1.3275176],\n",
       "       [1.3254108],\n",
       "       [1.3210089],\n",
       "       [1.3165697],\n",
       "       [1.3145674],\n",
       "       [1.3155742],\n",
       "       [1.3195597],\n",
       "       [1.3296242],\n",
       "       [1.3457078],\n",
       "       [1.3673271],\n",
       "       [1.3895444],\n",
       "       [1.4047825],\n",
       "       [1.410457 ],\n",
       "       [1.4151613],\n",
       "       [1.425662 ],\n",
       "       [1.4412278],\n",
       "       [1.456124 ],\n",
       "       [1.4662333],\n",
       "       [1.4702612],\n",
       "       [1.4722929],\n",
       "       [1.4796027],\n",
       "       [1.493773 ],\n",
       "       [1.5053324],\n",
       "       [1.5071666],\n",
       "       [1.4976646],\n",
       "       [1.4782693],\n",
       "       [1.4535728],\n",
       "       [1.4304116],\n",
       "       [1.4177403],\n",
       "       [1.4182184],\n",
       "       [1.4298717],\n",
       "       [1.4493918],\n",
       "       [1.4695196],\n",
       "       [1.4847138],\n",
       "       [1.491653 ],\n",
       "       [1.4922502],\n",
       "       [1.4896958],\n",
       "       [1.489205 ],\n",
       "       [1.492546 ],\n",
       "       [1.4998535],\n",
       "       [1.5110066],\n",
       "       [1.5233927],\n",
       "       [1.5370297],\n",
       "       [1.5535246],\n",
       "       [1.5685207],\n",
       "       [1.580687 ],\n",
       "       [1.5909029],\n",
       "       [1.6022589],\n",
       "       [1.5904377],\n",
       "       [1.5510001],\n",
       "       [1.4948469],\n",
       "       [1.4423611],\n",
       "       [1.4058123],\n",
       "       [1.384966 ],\n",
       "       [1.3754357],\n",
       "       [1.3727994],\n",
       "       [1.3747891],\n",
       "       [1.3727826],\n",
       "       [1.363137 ],\n",
       "       [1.3578897],\n",
       "       [1.3646364],\n",
       "       [1.3785071],\n",
       "       [1.3889024],\n",
       "       [1.3943132],\n",
       "       [1.3960301],\n",
       "       [1.3934151],\n",
       "       [1.3862203],\n",
       "       [1.376589 ],\n",
       "       [1.3632708],\n",
       "       [1.3484813],\n",
       "       [1.3320328],\n",
       "       [1.3020041],\n",
       "       [1.2643689],\n",
       "       [1.2256383],\n",
       "       [1.192864 ],\n",
       "       [1.1744605],\n",
       "       [1.1744583],\n",
       "       [1.1892198],\n",
       "       [1.2115886],\n",
       "       [1.2371458],\n",
       "       [1.2607446],\n",
       "       [1.2804644],\n",
       "       [1.2973275],\n",
       "       [1.3107914],\n",
       "       [1.3219986],\n",
       "       [1.3329219],\n",
       "       [1.3417671],\n",
       "       [1.3411479],\n",
       "       [1.3294117],\n",
       "       [1.3095708],\n",
       "       [1.287995 ],\n",
       "       [1.2729759],\n",
       "       [1.2697703],\n",
       "       [1.2792268],\n",
       "       [1.2990335],\n",
       "       [1.3202133],\n",
       "       [1.338561 ],\n",
       "       [1.3550812],\n",
       "       [1.3700591],\n",
       "       [1.3825865],\n",
       "       [1.3927063],\n",
       "       [1.4005997],\n",
       "       [1.4043866],\n",
       "       [1.4039081],\n",
       "       [1.3967464],\n",
       "       [1.3862247],\n",
       "       [1.3773056],\n",
       "       [1.370303 ],\n",
       "       [1.3640074],\n",
       "       [1.3835541],\n",
       "       [1.4270183],\n",
       "       [1.4779034],\n",
       "       [1.5198509],\n",
       "       [1.5435338],\n",
       "       [1.5456324],\n",
       "       [1.5220776],\n",
       "       [1.4857407],\n",
       "       [1.4495095],\n",
       "       [1.4279568],\n",
       "       [1.4199324],\n",
       "       [1.4183333]], dtype=float32)"
      ]
     },
     "execution_count": 16,
     "metadata": {},
     "output_type": "execute_result"
    }
   ],
   "source": [
    "y_pred = model.predict(X_test)\n",
    "y_pred"
   ]
  },
  {
   "cell_type": "code",
   "execution_count": 17,
   "metadata": {},
   "outputs": [],
   "source": [
    "predicted_price = sc.inverse_transform(y_pred)"
   ]
  },
  {
   "cell_type": "code",
   "execution_count": 18,
   "metadata": {},
   "outputs": [
    {
     "data": {
      "image/png": "[encoded data removed]",
      "text/plain": [
       "<Figure size 640x480 with 1 Axes>"
      ]
     },
     "metadata": {},
     "output_type": "display_data"
    }
   ],
   "source": [
    "plt.plot(y_test, color = 'red', label = 'Actual Stock Price')\n",
    "plt.plot(predicted_price, color = 'green', label = 'Predicted Stock Price')\n",
    "plt.title('Google stock price prediction')\n",
    "plt.xlabel('Time')\n",
    "plt.ylabel('Stock Price')\n",
    "plt.legend()\n",
    "plt.show()"
   ]
  },
  {
   "cell_type": "code",
   "execution_count": null,
   "metadata": {},
   "outputs": [],
   "source": []
  }
 ],
 "metadata": {
  "kernelspec": {
   "display_name": "base",
   "language": "python",
   "name": "python3"
  },
  "language_info": {
   "codemirror_mode": {
    "name": "ipython",
    "version": 3
   },
   "file_extension": ".py",
   "mimetype": "text/x-python",
   "name": "python",
   "nbconvert_exporter": "python",
   "pygments_lexer": "ipython3",
   "version": "3.12.4"
  }
 },
 "nbformat": 4,
 "nbformat_minor": 4
}
